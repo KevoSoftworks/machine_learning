{
 "cells": [
  {
   "cell_type": "markdown",
   "metadata": {},
   "source": [
    "## Names of group members (max 3):\n",
    "    \n",
    "    Andre Hazes\n",
    "    Ramses Shaffy\n",
    "    Goor or Geer\n",
    "\n"
   ]
  },
  {
   "cell_type": "markdown",
   "metadata": {},
   "source": [
    "## Assignment 3 Part 1. Support Vector Machines"
   ]
  },
  {
   "cell_type": "code",
   "execution_count": null,
   "metadata": {},
   "outputs": [],
   "source": [
    "import numpy as np\n",
    "import math\n",
    "import matplotlib as mpl\n",
    "import matplotlib.pyplot as plt\n",
    "\n",
    "def F(x):\n",
    "    ## the function that should be maximized\n",
    "    fitness = -(x[0]-1)**2 - (x[0]-x[1])**2 - (x[0]-x[1]-x[2]-2)**2\n",
    "    return fitness"
   ]
  },
  {
   "cell_type": "markdown",
   "metadata": {},
   "source": [
    "We define $K$ vectors ${\\bf{x}}_k$, $k=0, \\ldots, K-1$ that serve all as approximations of the real maximum. Every vector in this collection has a certain fitness $f_k = F({\\bf{x}}_k)$. We will apply a genetical algortithm in this notebook, in which each ${\\bf{x}}_k$ is an **indiviual**.\n",
    "\n",
    "For the time being assume these vectors are sorted according decreasing fitness. So ${\\bf{x}}_0$ has the largest fitness $f_0$ and ${\\bf{x}}_{K-1}$ the lowest $f_{K-1}$. Genetically the vector ${\\bf{x}}_0$ is stronger ${\\bf{x}}_1$, etc.\n",
    "\n",
    "After initializing a population with random **genomes** and sorting them according to fitness, we are going to generate a new population, again of size $K$. (You will see that there are quite some choices to be made in the sequal, but, strangely enough, it does not matter so much how you choose them: this genetic algorithm works 'all the time'.) \n",
    "\n",
    "<ul>\n",
    "    <li>\n",
    "        First of all, we are going to recombine individuals $A, B$, from the current population to new individuals \n",
    "        $C$ with different genomes. function cross; \n",
    "    </li>\n",
    "    <li>\n",
    "        Moreover mutation is assumed to happen as well: function mutate. \n",
    "    </li> \n",
    "</ul>\n",
    "In the functions below there are two numbers, $a$ and $b$, to play with. But the GA is so nice: try to come up with an alternative!"
   ]
  },
  {
   "cell_type": "code",
   "execution_count": null,
   "metadata": {},
   "outputs": [],
   "source": [
    "def cross(A, B):\n",
    "    dimension = ...\n",
    "    C = np.ndarray(dimension)\n",
    "    ## take a random pick of dimension / 2 from A, the others from B\n",
    "    return(C)\n",
    "\n",
    "def mutate(C):\n",
    "    dimension = ...\n",
    "    a = ...\n",
    "    b = ...\n",
    "    D = np.ndarray(dimension)\n",
    "    ## for every gen take a b% chance to change the gen with a random value with amplitude a \n",
    "    return(D)"
   ]
  },
  {
   "cell_type": "markdown",
   "metadata": {},
   "source": [
    "These functions allow us to combine genomes of individuals. We of course now need a strategy **which individuals** are going to take part in it. As a first attempt, lets test the following genetic algorithm:\n",
    "\n",
    "As the individuals with a low index are strong, we let the strongest $25\\%$ be part of the new population as well.\n",
    "\n",
    "For the other $75\\%$ we are going to combine the genomes of two parents, $A, B$, giving an individual $C$ with  \n",
    "        \n",
    "            A = X_k, B = X_{k+1},   k=0, ..,K/4 - 1, so 25%\n",
    "            A = X_k, B = X_r,   k=0, .., K/4 -1, r random, so 25% \n",
    "            A = X_r, B = X_s,   r, s both random, K/4 times, so 25% \n",
    "\n",
    "For convenience we take $K$ to be a multiple of $4$, $N=K/4$. And again: change the rules and see if you can do better than my first attempt!\n",
    "\n",
    "The resulting algorithm may seem to be slow. However, if the number of parameters becomes (much) larger the algorithm still works more or less at the same speed."
   ]
  },
  {
   "cell_type": "code",
   "execution_count": 1,
   "metadata": {},
   "outputs": [],
   "source": [
    "def cross_and_mutate(pop, pop_size):\n",
    "    ## pop describes the complete population: \n",
    "    ## numbers of individuals is\n",
    "    size_population = pop_size[0]\n",
    "    N = int(size_population/4)\n",
    "    dimension = pop_size[1] \n",
    "    offspring = ...\n",
    "    for k in range(N):\n",
    "        offspring[k] = ...\n",
    "    k = N\n",
    "    while k < size_population:\n",
    "        if (k < 2 * N):\n",
    "            offspring[k] = ...\n",
    "        if (k >= 2 * N) and (k < 3*N):\n",
    "            offspring[k] = ...\n",
    "        if (k >= 3 * N):\n",
    "            offspring[k] = ...\n",
    "        ## next mutate\n",
    "        offspring[k] = ...\n",
    "        k = k + 1\n",
    "    return offspring"
   ]
  },
  {
   "cell_type": "code",
   "execution_count": null,
   "metadata": {},
   "outputs": [],
   "source": [
    "def run(N = 6, dimension = 3, num_generations = 10000):\n",
    "    size_population = 4 * N\n",
    "    pop_size = (size_population, dimension) \n",
    "    new_population = ... ## random\n",
    "    fitness = ... declare an array\n",
    "    J = np.ndarray(num_generations) ## stores the history of the fitness\n",
    "    for generation in range(num_generations):\n",
    "        ## compute the fitness of each individual\n",
    "        ## sort this such that the best is on top, etc \n",
    "        ## help: argsort\n",
    "        J[generation] = fitness[0]\n",
    "        offspring_crossover = cross_and_mutate(new_population, pop_size)\n",
    "        new_population = offspring_crossover\n",
    "    return(fitness[0], new_population[0],J)"
   ]
  },
  {
   "cell_type": "code",
   "execution_count": null,
   "metadata": {},
   "outputs": [],
   "source": [
    "fitness, sol, J = run()\n",
    "plt.plot(J)"
   ]
  },
  {
   "cell_type": "markdown",
   "metadata": {},
   "source": [
    "This should converge to fitness = 0 best genome = [ 1, 1, -2 ]"
   ]
  },
  {
   "cell_type": "code",
   "execution_count": null,
   "metadata": {},
   "outputs": [],
   "source": []
  },
  {
   "cell_type": "markdown",
   "metadata": {},
   "source": [
    "**We have now setup the algorithm an now apply it to data sets:**\n",
    "\n",
    "<ul>\n",
    "    <li>\n",
    "        The first we do by using a package **sklearn**; and also by using the genetic algorithm. \n",
    "    </li>\n",
    "    <li>\n",
    "        Later on you will use the package **sklearn** on more difficult data sets (to write a code that does what **sklearn** can do will take many ECs....\n",
    "    </li>\n",
    "</ul>\n"
   ]
  },
  {
   "cell_type": "code",
   "execution_count": 1,
   "metadata": {},
   "outputs": [],
   "source": [
    "# %load ../../../standard_import.txt\n",
    "import pandas as pd\n",
    "import numpy as np\n",
    "import matplotlib as mpl\n",
    "import matplotlib.pyplot as plt\n",
    "\n",
    "from scipy.io import loadmat\n",
    "from sklearn.svm import SVC\n",
    "\n",
    "pd.set_option('display.notebook_repr_html', False)\n",
    "pd.set_option('display.max_columns', None)\n",
    "pd.set_option('display.max_rows', 150)\n",
    "pd.set_option('display.max_seq_items', None)\n",
    " \n",
    "#%config InlineBackend.figure_formats = {'pdf',}\n",
    "%matplotlib inline\n",
    "\n",
    "import seaborn as sns\n",
    "sns.set_context('notebook')\n",
    "sns.set_style('white')"
   ]
  },
  {
   "cell_type": "markdown",
   "metadata": {},
   "source": [
    "The data sets below will be data in 2D with two types: $y=1$ and $y=0$ (or $-1$). "
   ]
  },
  {
   "cell_type": "code",
   "execution_count": 5,
   "metadata": {},
   "outputs": [],
   "source": [
    "def plotData(X, y):\n",
    "    pos = (y == 1).ravel()\n",
    "    neg = (y <= 0).ravel()    \n",
    "    plt.scatter(X[pos,0], X[pos,1], s=60, c='k', marker='+', linewidths=1)\n",
    "    plt.scatter(X[neg,0], X[neg,1], s=60, c='y', marker='o', linewidths=1)"
   ]
  },
  {
   "cell_type": "code",
   "execution_count": null,
   "metadata": {},
   "outputs": [],
   "source": [
    "def plot_svc(svc, X, y, h=0.02, pad=0.25):\n",
    "    x_min, x_max = X[:, 0].min()-pad, X[:, 0].max()+pad\n",
    "    y_min, y_max = X[:, 1].min()-pad, X[:, 1].max()+pad\n",
    "    xx, yy = np.meshgrid(np.arange(x_min, x_max, h), np.arange(y_min, y_max, h))\n",
    "    Z = svc.predict(np.c_[xx.ravel(), yy.ravel()])\n",
    "    Z = Z.reshape(xx.shape)\n",
    "    plt.contourf(xx, yy, Z, cmap=plt.cm.Paired, alpha=0.2)\n",
    "    plotData(X, y)\n",
    "    sv = svc.support_vectors_\n",
    "    plt.scatter(sv[:,0], sv[:,1], c='k', marker='|', s=100, linewidths=1)\n",
    "    plt.xlim(x_min, x_max)\n",
    "    plt.ylim(y_min, y_max)\n",
    "    plt.xlabel('X1')\n",
    "    plt.ylabel('X2')\n",
    "    plt.show()\n",
    "    print('Number of support vectors: ', svc.support_.size)"
   ]
  },
  {
   "cell_type": "markdown",
   "metadata": {},
   "source": [
    "### Example Dataset 1"
   ]
  },
  {
   "cell_type": "code",
   "execution_count": null,
   "metadata": {},
   "outputs": [],
   "source": [
    "data1 = loadmat('data/ex6data1.mat')\n",
    "## this data sets contains 51 points, the last one has the lowest x_1 value\n",
    "y1 = np.ndarray(51)\n",
    "z1 = data1['y']\n",
    "X1 = data1['X']\n",
    "for i in range(51):\n",
    "    if (z1[i] == 0):\n",
    "        y1[i] = -1\n",
    "    else:\n",
    "        y1[i] = 1  \n",
    "plotData(X1, y1) "
   ]
  },
  {
   "cell_type": "markdown",
   "metadata": {},
   "source": [
    "We first make the data set a little simpler: the point on the left changes identity ($1 \\to -1$)"
   ]
  },
  {
   "cell_type": "code",
   "execution_count": null,
   "metadata": {},
   "outputs": [],
   "source": [
    "y1[50] = -1\n",
    "plotData(X1, y1)      "
   ]
  },
  {
   "cell_type": "markdown",
   "metadata": {},
   "source": [
    "This is what SVC from the package does"
   ]
  },
  {
   "cell_type": "code",
   "execution_count": null,
   "metadata": {},
   "outputs": [],
   "source": [
    "clf = SVC(C=1.0, kernel='linear')\n",
    "clf.fit(X1, y1.ravel())\n",
    "plot_svc(clf, X1, y1)"
   ]
  },
  {
   "cell_type": "code",
   "execution_count": null,
   "metadata": {},
   "outputs": [],
   "source": []
  },
  {
   "cell_type": "markdown",
   "metadata": {},
   "source": [
    "**Implement the optimalisation as as defined in Eq. (4.12) in the lecture notes, ie. (7.3) in Bishop, using the genetic algorith that we already have in the run() function.**"
   ]
  },
  {
   "cell_type": "code",
   "execution_count": null,
   "metadata": {},
   "outputs": [],
   "source": [
    "import math\n",
    "\n",
    "def F(individual): ## The fitness function is the term between the argmax{..} \n",
    "              ## of eq. (4.11) in the lecture notes or (7.3) in Bishop.\n",
    "              ## read argmax{ F(inidivual) }\n",
    "    return fitness\n",
    "\n",
    "fitness, sol, J = run() ## you can reduce the number of generations: run(6, 3, 1000)"
   ]
  },
  {
   "cell_type": "code",
   "execution_count": null,
   "metadata": {},
   "outputs": [],
   "source": [
    "def plotData2(X, y, sol):\n",
    "    pos = (y == 1).ravel()\n",
    "    neg = (y == -1).ravel()    \n",
    "    plt.scatter(X[pos,0], X[pos,1], s=60, c='k', marker='+', linewidths=1)\n",
    "    plt.scatter(X[neg,0], X[neg,1], s=60, c='y', marker='o', linewidths=1)  \n",
    "    x = np.linspace(0, 4, 100)\n",
    "    plt.plot(x, -(sol[0] * x + sol[2])/sol[1], linestyle='solid')"
   ]
  },
  {
   "cell_type": "code",
   "execution_count": null,
   "metadata": {},
   "outputs": [],
   "source": [
    "plotData2(X1, y1, sol)"
   ]
  },
  {
   "cell_type": "code",
   "execution_count": null,
   "metadata": {},
   "outputs": [],
   "source": [
    "y1[50] = 1\n",
    "plotData(X1, y1) "
   ]
  },
  {
   "cell_type": "code",
   "execution_count": null,
   "metadata": {},
   "outputs": [],
   "source": [
    "fitness, sol, J = run()"
   ]
  },
  {
   "cell_type": "code",
   "execution_count": null,
   "metadata": {},
   "outputs": [],
   "source": [
    "plotData2(X1, y1, sol)"
   ]
  },
  {
   "cell_type": "code",
   "execution_count": null,
   "metadata": {},
   "outputs": [],
   "source": [
    "clf = SVC(C=1, kernel='linear')\n",
    "clf.fit(X1, y1.ravel())\n",
    "plot_svc(clf, X1, y1)"
   ]
  },
  {
   "cell_type": "code",
   "execution_count": null,
   "metadata": {},
   "outputs": [],
   "source": [
    "clf = SVC(C = 100, kernel='linear')\n",
    "clf.fit(X1, y1.ravel())\n",
    "plot_svc(clf, X1, y1)"
   ]
  },
  {
   "cell_type": "markdown",
   "metadata": {},
   "source": [
    "**Question.** Does the linear case work for C->0 and/or C->infinity work for the case that the dataset is not linearly separable? And what about the genetic code?\n",
    "(Pull, e.g., the X1[50][1] -> 3, y1[50] = 1)\n",
    "How would you rephrase the genetic optimization such that you could use it for the non separable case as well?"
   ]
  },
  {
   "cell_type": "markdown",
   "metadata": {},
   "source": [
    "### SVM with other Kernels\n",
    "\n",
    "Below are two more data sets. Use the package sklearn for this. Dive into the manual of this package an figure out how you can get a good classifier. Explain how the methods works with other kernels. Change parameters, such as C, degree and other basis functions: what is their effect? "
   ]
  },
  {
   "cell_type": "markdown",
   "metadata": {},
   "source": [
    "#### Example Dataset 2"
   ]
  },
  {
   "cell_type": "code",
   "execution_count": 2,
   "metadata": {},
   "outputs": [
    {
     "data": {
      "text/plain": [
       "dict_keys(['__header__', '__version__', '__globals__', 'X', 'y'])"
      ]
     },
     "execution_count": 2,
     "metadata": {},
     "output_type": "execute_result"
    }
   ],
   "source": [
    "data2 = loadmat('data/ex6data2.mat')\n",
    "data2.keys()"
   ]
  },
  {
   "cell_type": "code",
   "execution_count": 3,
   "metadata": {},
   "outputs": [
    {
     "name": "stdout",
     "output_type": "stream",
     "text": [
      "X2: (863, 2)\n",
      "y2: (863, 1)\n"
     ]
    }
   ],
   "source": [
    "y2 = data2['y']\n",
    "X2 = data2['X']\n",
    "\n",
    "print('X2:', X2.shape)\n",
    "print('y2:', y2.shape)"
   ]
  },
  {
   "cell_type": "code",
   "execution_count": 6,
   "metadata": {},
   "outputs": [
    {
     "data": {
      "image/png": "[encoded data removed]",
      "text/plain": [
       "<matplotlib.figure.Figure at 0x11174afd0>"
      ]
     },
     "metadata": {},
     "output_type": "display_data"
    }
   ],
   "source": [
    "plotData(X2, y2)"
   ]
  },
  {
   "cell_type": "code",
   "execution_count": null,
   "metadata": {},
   "outputs": [],
   "source": []
  },
  {
   "cell_type": "code",
   "execution_count": null,
   "metadata": {},
   "outputs": [],
   "source": []
  },
  {
   "cell_type": "code",
   "execution_count": null,
   "metadata": {},
   "outputs": [],
   "source": []
  },
  {
   "cell_type": "code",
   "execution_count": null,
   "metadata": {},
   "outputs": [],
   "source": []
  },
  {
   "cell_type": "markdown",
   "metadata": {},
   "source": [
    "#### Example Dataset 3"
   ]
  },
  {
   "cell_type": "code",
   "execution_count": 7,
   "metadata": {},
   "outputs": [
    {
     "data": {
      "text/plain": [
       "dict_keys(['__header__', '__version__', '__globals__', 'X', 'y', 'yval', 'Xval'])"
      ]
     },
     "execution_count": 7,
     "metadata": {},
     "output_type": "execute_result"
    }
   ],
   "source": [
    "data3 = loadmat('data/ex6data3.mat')\n",
    "data3.keys()"
   ]
  },
  {
   "cell_type": "code",
   "execution_count": 8,
   "metadata": {},
   "outputs": [
    {
     "name": "stdout",
     "output_type": "stream",
     "text": [
      "X3: (211, 2)\n",
      "y3: (211, 1)\n"
     ]
    }
   ],
   "source": [
    "y3 = data3['y']\n",
    "X3 = data3['X']\n",
    "\n",
    "print('X3:', X3.shape)\n",
    "print('y3:', y3.shape)"
   ]
  },
  {
   "cell_type": "code",
   "execution_count": 9,
   "metadata": {},
   "outputs": [
    {
     "data": {
      "image/png": "[encoded data removed]",
      "text/plain": [
       "<matplotlib.figure.Figure at 0x1118667b8>"
      ]
     },
     "metadata": {},
     "output_type": "display_data"
    }
   ],
   "source": [
    "plotData(X3, y3)"
   ]
  },
  {
   "cell_type": "markdown",
   "metadata": {},
   "source": []
  },
  {
   "cell_type": "code",
   "execution_count": null,
   "metadata": {},
   "outputs": [],
   "source": []
  },
  {
   "cell_type": "code",
   "execution_count": null,
   "metadata": {},
   "outputs": [],
   "source": []
  },
  {
   "cell_type": "code",
   "execution_count": null,
   "metadata": {},
   "outputs": [],
   "source": []
  },
  {
   "cell_type": "code",
   "execution_count": null,
   "metadata": {},
   "outputs": [],
   "source": []
  }
 ],
 "metadata": {
  "kernelspec": {
   "display_name": "Python 3",
   "language": "python",
   "name": "python3"
  },
  "language_info": {
   "codemirror_mode": {
    "name": "ipython",
    "version": 3
   },
   "file_extension": ".py",
   "mimetype": "text/x-python",
   "name": "python",
   "nbconvert_exporter": "python",
   "pygments_lexer": "ipython3",
   "version": "3.8.3"
  }
 },
 "nbformat": 4,
 "nbformat_minor": 1
}
